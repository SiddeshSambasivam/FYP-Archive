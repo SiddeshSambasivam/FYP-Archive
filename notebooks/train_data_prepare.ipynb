{
 "cells": [
  {
   "cell_type": "code",
   "execution_count": 77,
   "id": "8ccc90a2",
   "metadata": {},
   "outputs": [],
   "source": [
    "import os\n",
    "from collections import defaultdict, Counter\n",
    "\n",
    "import sympy as sp\n",
    "\n",
    "import pandas as pd\n",
    "import seaborn as sns\n",
    "import numpy as np"
   ]
  },
  {
   "cell_type": "code",
   "execution_count": 66,
   "id": "ed2f8fe9",
   "metadata": {},
   "outputs": [
    {
     "data": {
      "text/html": [
       "<div>\n",
       "<style scoped>\n",
       "    .dataframe tbody tr th:only-of-type {\n",
       "        vertical-align: middle;\n",
       "    }\n",
       "\n",
       "    .dataframe tbody tr th {\n",
       "        vertical-align: top;\n",
       "    }\n",
       "\n",
       "    .dataframe thead th {\n",
       "        text-align: right;\n",
       "    }\n",
       "</style>\n",
       "<table border=\"1\" class=\"dataframe\">\n",
       "  <thead>\n",
       "    <tr style=\"text-align: right;\">\n",
       "      <th></th>\n",
       "      <th>eq</th>\n",
       "      <th>support</th>\n",
       "      <th>num_points</th>\n",
       "    </tr>\n",
       "  </thead>\n",
       "  <tbody>\n",
       "    <tr>\n",
       "      <th>0</th>\n",
       "      <td>exp(-x_1**2/2)/sqrt(2*pi)</td>\n",
       "      <td>{'x_1': {'max': 3.0, 'min': 1.0}}</td>\n",
       "      <td>500</td>\n",
       "    </tr>\n",
       "    <tr>\n",
       "      <th>1</th>\n",
       "      <td>exp(-(x_2/x_1)**2/2)/(sqrt(2*pi)*x_1)</td>\n",
       "      <td>{'x_1': {'max': 3.0, 'min': 1.0}, 'x_2': {'max...</td>\n",
       "      <td>500</td>\n",
       "    </tr>\n",
       "    <tr>\n",
       "      <th>2</th>\n",
       "      <td>exp(-((x_2-x_2)/x_1)**2/2)/(sqrt(2*pi)*x_1)</td>\n",
       "      <td>{'x_1': {'max': 3.0, 'min': 1.0}, 'x_2': {'max...</td>\n",
       "      <td>500</td>\n",
       "    </tr>\n",
       "    <tr>\n",
       "      <th>3</th>\n",
       "      <td>x_1/sqrt(1-x_2**2/x_3**2)</td>\n",
       "      <td>{'x_1': {'max': 5.0, 'min': 1.0}, 'x_2': {'max...</td>\n",
       "      <td>500</td>\n",
       "    </tr>\n",
       "    <tr>\n",
       "      <th>4</th>\n",
       "      <td>x_1*x_2</td>\n",
       "      <td>{'x_1': {'max': 5.0, 'min': 1.0}, 'x_2': {'max...</td>\n",
       "      <td>500</td>\n",
       "    </tr>\n",
       "  </tbody>\n",
       "</table>\n",
       "</div>"
      ],
      "text/plain": [
       "                                            eq  \\\n",
       "0                    exp(-x_1**2/2)/sqrt(2*pi)   \n",
       "1        exp(-(x_2/x_1)**2/2)/(sqrt(2*pi)*x_1)   \n",
       "2  exp(-((x_2-x_2)/x_1)**2/2)/(sqrt(2*pi)*x_1)   \n",
       "3                    x_1/sqrt(1-x_2**2/x_3**2)   \n",
       "4                                      x_1*x_2   \n",
       "\n",
       "                                             support  num_points  \n",
       "0                  {'x_1': {'max': 3.0, 'min': 1.0}}         500  \n",
       "1  {'x_1': {'max': 3.0, 'min': 1.0}, 'x_2': {'max...         500  \n",
       "2  {'x_1': {'max': 3.0, 'min': 1.0}, 'x_2': {'max...         500  \n",
       "3  {'x_1': {'max': 5.0, 'min': 1.0}, 'x_2': {'max...         500  \n",
       "4  {'x_1': {'max': 5.0, 'min': 1.0}, 'x_2': {'max...         500  "
      ]
     },
     "execution_count": 66,
     "metadata": {},
     "output_type": "execute_result"
    }
   ],
   "source": [
    "df_train = pd.read_csv(\n",
    "    \"../data/AIFeynman/ai_feynman_3vars.csv\",\n",
    "    usecols=[\"eq\", \"support\", \"num_points\"]\n",
    ")\n",
    "\n",
    "df_train[:5]"
   ]
  },
  {
   "cell_type": "code",
   "execution_count": 67,
   "id": "caaf2b77",
   "metadata": {},
   "outputs": [],
   "source": [
    "def get_ops(eq): \n",
    "    ops = []\n",
    "    for op in eq.count_ops(visual=True).free_symbols:\n",
    "        op_str = str(op).lower()\n",
    "        if op_str == \"func_arcsin\":\n",
    "            op_str = \"arcsin\"\n",
    "            \n",
    "        ops.append(op_str)\n",
    "        \n",
    "    return ','.join(ops)\n",
    "\n",
    "df_train[\"ops\"] = df_train[\"eq\"].apply(lambda x: get_ops(sp.sympify(x)))"
   ]
  },
  {
   "cell_type": "code",
   "execution_count": 68,
   "id": "7cc87299",
   "metadata": {},
   "outputs": [
    {
     "name": "stdout",
     "output_type": "stream",
     "text": [
      "0 mul,div,pow,exp\n",
      "1 mul,div,pow,exp\n",
      "2 mul,div,pow\n",
      "3 sub,div,pow\n",
      "4 mul\n",
      "5 mul,div,pow\n",
      "6 mul\n",
      "7 mul\n",
      "8 div,pow\n",
      "9 sub,mul,div,pow\n",
      "10 mul,add,pow,div\n",
      "11 mul,sin\n",
      "12 div\n",
      "13 mul,arcsin,sin\n",
      "14 add,div\n",
      "15 div\n",
      "16 mul,div,pow,sin\n",
      "17 arcsin,mul,div\n",
      "18 sub,div\n",
      "19 mul,add,pow,div,sub\n",
      "20 mul,div\n",
      "21 add,div,pow,mul,cos\n",
      "22 mul,div\n",
      "23 sub,mul,div\n",
      "24 mul\n",
      "25 mul,div,pow\n",
      "26 sub,mul,div,pow\n",
      "27 mul,div,pow\n",
      "28 mul,div\n",
      "29 mul,div,pow\n",
      "30 mul,div,pow\n",
      "31 mul,add,div\n",
      "32 sub,mul,add,div\n",
      "33 sub,div,pow\n",
      "34 sub,mul,div,pow\n",
      "35 cos,mul,neg\n",
      "36 cos,mul,neg\n",
      "37 sub,div,pow\n",
      "38 mul,pow\n",
      "39 mul,pow\n",
      "40 mul,div\n",
      "41 mul,div\n",
      "42 mul,div\n",
      "43 mul,add\n",
      "44 mul,add,div\n",
      "45 mul,div\n",
      "46 mul,div,pow,sin\n",
      "47 mul,div\n",
      "48 cos,sub,mul\n",
      "49 mul,div,pow\n",
      "50 mul,div\n",
      "51 cos,mul,add\n"
     ]
    }
   ],
   "source": [
    "for i, op in df_train[\"ops\"].iteritems():\n",
    "    print(i,op)"
   ]
  },
  {
   "cell_type": "code",
   "execution_count": 80,
   "id": "c3ec9c51",
   "metadata": {},
   "outputs": [
    {
     "data": {
      "text/plain": [
       "Counter({'mul': 44,\n",
       "         'div': 39,\n",
       "         'pow': 23,\n",
       "         'exp': 2,\n",
       "         'sub': 11,\n",
       "         'add': 9,\n",
       "         'sin': 4,\n",
       "         'arcsin': 2,\n",
       "         'cos': 5,\n",
       "         'neg': 2})"
      ]
     },
     "execution_count": 80,
     "metadata": {},
     "output_type": "execute_result"
    }
   ],
   "source": [
    "opfreq = Counter(','.join(df_train['ops'].tolist()).split(','))\n",
    "opfreq"
   ]
  },
  {
   "cell_type": "code",
   "execution_count": 99,
   "id": "42411dce",
   "metadata": {},
   "outputs": [],
   "source": [
    "df_train.to_csv(\"../data/AIFeynman/ai_feynman_3vars.csv\")"
   ]
  },
  {
   "cell_type": "code",
   "execution_count": null,
   "id": "ddd5bdd4",
   "metadata": {},
   "outputs": [],
   "source": []
  }
 ],
 "metadata": {
  "kernelspec": {
   "display_name": "Python 3 (ipykernel)",
   "language": "python",
   "name": "python3"
  },
  "language_info": {
   "codemirror_mode": {
    "name": "ipython",
    "version": 3
   },
   "file_extension": ".py",
   "mimetype": "text/x-python",
   "name": "python",
   "nbconvert_exporter": "python",
   "pygments_lexer": "ipython3",
   "version": "3.7.0"
  }
 },
 "nbformat": 4,
 "nbformat_minor": 5
}
