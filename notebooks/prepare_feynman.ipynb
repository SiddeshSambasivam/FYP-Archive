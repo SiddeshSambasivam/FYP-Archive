{
 "cells": [
  {
   "cell_type": "code",
   "execution_count": 66,
   "metadata": {},
   "outputs": [],
   "source": [
    "import re\n",
    "import pandas as pd"
   ]
  },
  {
   "cell_type": "code",
   "execution_count": 101,
   "metadata": {},
   "outputs": [],
   "source": [
    "df = pd.read_csv(\"../data/AIFeynman/FeynmanEquations.csv\")"
   ]
  },
  {
   "cell_type": "code",
   "execution_count": 102,
   "metadata": {},
   "outputs": [
    {
     "data": {
      "text/plain": [
       "54"
      ]
     },
     "execution_count": 102,
     "metadata": {},
     "output_type": "execute_result"
    }
   ],
   "source": [
    "# Filter all equations with up to 3 independent variables\n",
    "df = df[df[\"# variables\"] <= 3]\n",
    "df = df.iloc[: len(df)]\n",
    "len(df)"
   ]
  },
  {
   "cell_type": "code",
   "execution_count": 103,
   "metadata": {},
   "outputs": [],
   "source": [
    "# Drop unwanted columns\n",
    "df.drop(\n",
    "    columns=[\n",
    "        \"v4_name\",\n",
    "        \"v4_low\",\n",
    "        \"v4_high\",\n",
    "        \"v5_name\",\n",
    "        \"v5_low\",\n",
    "        \"v5_high\",\n",
    "        \"v6_name\",\n",
    "        \"v6_low\",\n",
    "        \"v6_high\",\n",
    "        \"v7_name\",\n",
    "        \"v7_low\",\n",
    "        \"v7_high\",\n",
    "        \"v8_name\",\n",
    "        \"v8_low\",\n",
    "        \"v8_high\",\n",
    "        \"v9_name\",\n",
    "        \"v9_low\",\n",
    "        \"v9_high\",\n",
    "        \"v10_name\",\n",
    "        \"v10_low\",\n",
    "        \"v10_high\",\n",
    "    ],\n",
    "    inplace=True,\n",
    ")"
   ]
  },
  {
   "cell_type": "code",
   "execution_count": 105,
   "metadata": {},
   "outputs": [],
   "source": [
    "df.reset_index(inplace=True, drop=True)"
   ]
  },
  {
   "cell_type": "code",
   "execution_count": 107,
   "metadata": {},
   "outputs": [],
   "source": [
    "var_map = {\"v1_name\": \"x_1\", \"v2_name\": \"x_2\", \"v3_name\": \"x_3\"}\n",
    "\n",
    "converted_data = []\n",
    "\n",
    "for i, row in df.iterrows():\n",
    "\n",
    "    formula = row[\"Formula\"]\n",
    "    support = {}\n",
    "\n",
    "    for var in [\"v1_\", \"v2_\", \"v3_\"]:\n",
    "\n",
    "        orig_var_name = row[f\"{var}name\"]\n",
    "\n",
    "        if type(orig_var_name) is str:\n",
    "            formula = re.sub(orig_var_name, var_map[f\"{var}name\"], formula)\n",
    "            support[var_map[f\"{var}name\"]] = {\n",
    "                \"max\": row[f\"{var}high\"],\n",
    "                \"min\": row[f\"{var}low\"],\n",
    "            }\n",
    "\n",
    "    new_row = {\"eq\": formula, \"support\": str(support), \"num_points\": 500}\n",
    "\n",
    "    converted_data.append(new_row)"
   ]
  },
  {
   "cell_type": "code",
   "execution_count": 100,
   "metadata": {},
   "outputs": [],
   "source": [
    "converted_df = pd.DataFrame(data=converted_data)\n",
    "converted_df.to_csv(\"../data/AIFeynman/ai_feynman.csv\")"
   ]
  },
  {
   "cell_type": "code",
   "execution_count": null,
   "metadata": {},
   "outputs": [],
   "source": []
  }
 ],
 "metadata": {
  "interpreter": {
   "hash": "79fc330c2b7867b1aa14280bc4d5aba68ad948e72f38366e74aacbe8caff3794"
  },
  "kernelspec": {
   "display_name": "Python 3.8.13 ('FYP')",
   "language": "python",
   "name": "python3"
  },
  "language_info": {
   "codemirror_mode": {
    "name": "ipython",
    "version": 3
   },
   "file_extension": ".py",
   "mimetype": "text/x-python",
   "name": "python",
   "nbconvert_exporter": "python",
   "pygments_lexer": "ipython3",
   "version": "3.8.13"
  },
  "orig_nbformat": 4
 },
 "nbformat": 4,
 "nbformat_minor": 2
}
