{
 "cells": [
  {
   "cell_type": "code",
   "execution_count": 1,
   "id": "63b5d336",
   "metadata": {},
   "outputs": [],
   "source": [
    "import os\n",
    "from collections import defaultdict\n",
    "\n",
    "import sympy as sp\n",
    "from tqdm.notebook import tqdm\n",
    "\n",
    "import pandas as pd\n",
    "import seaborn as sns\n",
    "import numpy as np"
   ]
  },
  {
   "cell_type": "code",
   "execution_count": 2,
   "id": "79590e5a",
   "metadata": {},
   "outputs": [],
   "source": [
    "df_gplearn = pd.read_excel(\n",
    "    \"../logs/gplearn_2022-06-17_14-14-12.xlsx\", \n",
    "    engine='openpyxl', \n",
    "    usecols=\"B:H\"\n",
    ")\n",
    "\n",
    "df_dsr = pd.read_excel(\n",
    "    \"../logs/dsr_2022-06-17_15-26-36.xlsx\", \n",
    "    engine='openpyxl',\n",
    "    usecols=\"B:H\"\n",
    ")"
   ]
  },
  {
   "cell_type": "code",
   "execution_count": 3,
   "id": "2e132a87",
   "metadata": {},
   "outputs": [
    {
     "data": {
      "text/plain": [
       "0.38461538461538464"
      ]
     },
     "execution_count": 3,
     "metadata": {},
     "output_type": "execute_result"
    }
   ],
   "source": [
    "len(df_gplearn[df_gplearn.accuracy > 0.95])/len(df_gplearn)"
   ]
  },
  {
   "cell_type": "code",
   "execution_count": 4,
   "id": "412f25f8",
   "metadata": {},
   "outputs": [
    {
     "data": {
      "text/plain": [
       "0.5961538461538461"
      ]
     },
     "execution_count": 4,
     "metadata": {},
     "output_type": "execute_result"
    }
   ],
   "source": [
    "len(df_dsr[df_dsr.accuracy > 0.95])/len(df_dsr)"
   ]
  },
  {
   "cell_type": "code",
   "execution_count": 5,
   "id": "e01c2c10",
   "metadata": {},
   "outputs": [
    {
     "data": {
      "text/html": [
       "<div>\n",
       "<style scoped>\n",
       "    .dataframe tbody tr th:only-of-type {\n",
       "        vertical-align: middle;\n",
       "    }\n",
       "\n",
       "    .dataframe tbody tr th {\n",
       "        vertical-align: top;\n",
       "    }\n",
       "\n",
       "    .dataframe thead th {\n",
       "        text-align: right;\n",
       "    }\n",
       "</style>\n",
       "<table border=\"1\" class=\"dataframe\">\n",
       "  <thead>\n",
       "    <tr style=\"text-align: right;\">\n",
       "      <th></th>\n",
       "      <th>model_name</th>\n",
       "      <th>equation</th>\n",
       "      <th>number_of_points</th>\n",
       "      <th>hyper_parameter</th>\n",
       "      <th>accuracy</th>\n",
       "      <th>time</th>\n",
       "      <th>predicted_equation</th>\n",
       "    </tr>\n",
       "  </thead>\n",
       "  <tbody>\n",
       "    <tr>\n",
       "      <th>0</th>\n",
       "      <td>gplearn</td>\n",
       "      <td>exp(-x_1**2/2)/sqrt(2*pi)</td>\n",
       "      <td>500</td>\n",
       "      <td>Tournament size=10</td>\n",
       "      <td>0.636</td>\n",
       "      <td>11.547687</td>\n",
       "      <td>1/(exp(X0) + 1.48586931755139*exp(X0**2 - X0))</td>\n",
       "    </tr>\n",
       "    <tr>\n",
       "      <th>1</th>\n",
       "      <td>gplearn</td>\n",
       "      <td>exp(-(x_2/x_1)**2/2)/(sqrt(2*pi)*x_1)</td>\n",
       "      <td>500</td>\n",
       "      <td>Tournament size=10</td>\n",
       "      <td>0.208</td>\n",
       "      <td>11.804590</td>\n",
       "      <td>0.210177540062669/X0</td>\n",
       "    </tr>\n",
       "    <tr>\n",
       "      <th>2</th>\n",
       "      <td>gplearn</td>\n",
       "      <td>exp(-((x_2-x_2)/x_1)**2/2)/(sqrt(2*pi)*x_1)</td>\n",
       "      <td>500</td>\n",
       "      <td>Tournament size=10</td>\n",
       "      <td>1.000</td>\n",
       "      <td>12.758329</td>\n",
       "      <td>0.398748040747538*I/X2</td>\n",
       "    </tr>\n",
       "    <tr>\n",
       "      <th>3</th>\n",
       "      <td>gplearn</td>\n",
       "      <td>x_1/sqrt(1-x_2**2/x_3**2)</td>\n",
       "      <td>500</td>\n",
       "      <td>Tournament size=10</td>\n",
       "      <td>0.928</td>\n",
       "      <td>14.210814</td>\n",
       "      <td>X2 + 1/(-X2 + exp(sqrt(X1)))</td>\n",
       "    </tr>\n",
       "    <tr>\n",
       "      <th>4</th>\n",
       "      <td>gplearn</td>\n",
       "      <td>x_1*x_2</td>\n",
       "      <td>500</td>\n",
       "      <td>Tournament size=10</td>\n",
       "      <td>1.000</td>\n",
       "      <td>1.723560</td>\n",
       "      <td>X0*X1</td>\n",
       "    </tr>\n",
       "  </tbody>\n",
       "</table>\n",
       "</div>"
      ],
      "text/plain": [
       "  model_name                                     equation  number_of_points  \\\n",
       "0    gplearn                    exp(-x_1**2/2)/sqrt(2*pi)               500   \n",
       "1    gplearn        exp(-(x_2/x_1)**2/2)/(sqrt(2*pi)*x_1)               500   \n",
       "2    gplearn  exp(-((x_2-x_2)/x_1)**2/2)/(sqrt(2*pi)*x_1)               500   \n",
       "3    gplearn                    x_1/sqrt(1-x_2**2/x_3**2)               500   \n",
       "4    gplearn                                      x_1*x_2               500   \n",
       "\n",
       "      hyper_parameter  accuracy       time  \\\n",
       "0  Tournament size=10     0.636  11.547687   \n",
       "1  Tournament size=10     0.208  11.804590   \n",
       "2  Tournament size=10     1.000  12.758329   \n",
       "3  Tournament size=10     0.928  14.210814   \n",
       "4  Tournament size=10     1.000   1.723560   \n",
       "\n",
       "                               predicted_equation  \n",
       "0  1/(exp(X0) + 1.48586931755139*exp(X0**2 - X0))  \n",
       "1                            0.210177540062669/X0  \n",
       "2                          0.398748040747538*I/X2  \n",
       "3                    X2 + 1/(-X2 + exp(sqrt(X1)))  \n",
       "4                                           X0*X1  "
      ]
     },
     "execution_count": 5,
     "metadata": {},
     "output_type": "execute_result"
    }
   ],
   "source": [
    "df_gplearn.iloc[:5]"
   ]
  },
  {
   "cell_type": "markdown",
   "id": "6ec96f84",
   "metadata": {},
   "source": [
    "### Ideation \n",
    "\n",
    "For each equation predicted by a model, create a frequency count of the operators used by the model. Top `k` operators are chosen from the frequency dict.\n",
    "\n",
    "```json\n",
    "{\n",
    "    id: {\n",
    "        \"model_1\":{...set of operators used}\n",
    "        \"model_2\":{...set of operators used}\n",
    "    }\n",
    "}\n",
    "```"
   ]
  },
  {
   "cell_type": "code",
   "execution_count": 6,
   "id": "156d40bf",
   "metadata": {},
   "outputs": [],
   "source": [
    "def sort_freq_dict(freqDict:dict) -> dict:\n",
    "    sorted_freq_tuple = sorted(freqDict.items(), key=lambda item: item[1], reverse=True)\n",
    "    return dict(sorted_freq_tuple)\n",
    "\n",
    "def combine_freq_dicts(freq_dicts:list) -> dict:\n",
    "    \"\"\"Returns a combined frequency dictionary from input frequency dicts\"\"\"\n",
    "    \n",
    "    keys = []\n",
    "    for freq_dict in freq_dicts:\n",
    "        keys.extend(freq_dict.keys())\n",
    "    \n",
    "    keys = set(keys)  \n",
    "    \n",
    "    result = defaultdict(int)\n",
    "    \n",
    "    for key in keys:\n",
    "        for freq_dict in freq_dicts:\n",
    "            v = freq_dict.get(key)\n",
    "            if v is not None:\n",
    "                result[key] += v\n",
    "        \n",
    "    return dict(result)\n",
    "\n",
    "def compute_acc_weight(acc):\n",
    "    return np.exp(10*acc-10)\n",
    "\n",
    "def compute_weighted_op_count(opp_acc_list) -> list:\n",
    "    \n",
    "    weighted_opp_acc_list = []\n",
    "    \n",
    "    for ops_count, acc in opp_acc_list:\n",
    "        \n",
    "        w = compute_acc_weight(acc)\n",
    "        \n",
    "        for k, v in ops_count.items():\n",
    "            ops_count[k] = v*w\n",
    "        \n",
    "        weighted_opp_acc_list.append(ops_count)\n",
    "        \n",
    "    return weighted_opp_acc_list"
   ]
  },
  {
   "cell_type": "code",
   "execution_count": 122,
   "id": "780c12c6",
   "metadata": {},
   "outputs": [],
   "source": [
    "def get_op_freq(eq) -> dict:\n",
    "    \"\"\"Returns the frequency for each operator as dict\"\"\"\n",
    "    \n",
    "    ops_string = str(eq.count_ops(visual=True))\n",
    "    ops_iterable = [op.strip() for op in ops_string.split(\"+\")]\n",
    "\n",
    "    result = {}\n",
    "\n",
    "    for ops in ops_iterable:\n",
    "\n",
    "        args = ops.split(\"*\")\n",
    "        if len(args) == 1: # occurs once\n",
    "            op_name = args[0].lower()\n",
    "            result[op_name] = 1\n",
    "            continue\n",
    "\n",
    "        freq, op_name = int(args[0]), args[1].lower()\n",
    "        result[op_name] = freq\n",
    "\n",
    "    return result    "
   ]
  },
  {
   "cell_type": "markdown",
   "id": "fa05da31",
   "metadata": {},
   "source": [
    "# Algorithm\n",
    "\n",
    "1. compute weight,w, for each equation; w = exp(10x-10)\n",
    "2. Multiply the weight with the freq\n",
    "3. Combine the values of each op\n",
    "4. Sort the dict\n",
    "5. Choose top 5"
   ]
  },
  {
   "cell_type": "code",
   "execution_count": 129,
   "id": "bda885d6",
   "metadata": {
    "scrolled": true
   },
   "outputs": [
    {
     "name": "stdout",
     "output_type": "stream",
     "text": [
      "Equation 0: mul,add,log,exp\n",
      "Equation 1: mul,add,div,log\n",
      "Equation 2: div,exp,sin,mul\n",
      "Equation 3: div,add,mul,pow\n",
      "Equation 4: mul,exp,log\n",
      "Equation 5: mul,exp,div,add\n",
      "Equation 6: mul\n",
      "Equation 7: mul\n",
      "Equation 8: add,div,pow,mul\n",
      "Equation 9: mul,div,add,sub\n",
      "Equation 10: mul,sub,div,exp\n",
      "Equation 11: mul,sin\n",
      "Equation 12: div\n",
      "Equation 13: sin,mul,cos,pow\n",
      "Equation 14: div,log,add,exp\n",
      "Equation 15: div\n",
      "Equation 16: div,mul,add,cos\n",
      "Equation 17: mul,div,pow,add\n",
      "Equation 18: mul,log,pow,div\n",
      "Equation 19: mul,add,log,exp\n",
      "Equation 20: mul,log,div,add\n",
      "Equation 21: add,cos,mul,sub\n",
      "Equation 22: mul,div,add,pow\n",
      "Equation 23: add,mul,pow,div\n",
      "Equation 24: mul\n",
      "Equation 25: div,mul,exp,log\n",
      "Equation 26: mul,add,pow,log\n",
      "Equation 27: mul,neg,log,div\n",
      "Equation 28: mul,add,log,div\n",
      "Equation 29: mul,log,div,add\n",
      "Equation 30: mul,add,sub,exp\n",
      "Equation 31: div,mul,add,pow\n",
      "Equation 32: mul,exp,div,add\n",
      "Equation 33: sub,pow,div,mul\n",
      "Equation 34: mul,add,pow,log\n",
      "Equation 35: mul,cos,neg,div\n",
      "Equation 36: mul,cos,neg,add\n",
      "Equation 37: div,cos,mul,pow\n",
      "Equation 38: mul,pow,div,log\n",
      "Equation 39: mul,pow\n",
      "Equation 40: mul,div,log,pow\n",
      "Equation 41: add,mul,sin,pow\n",
      "Equation 42: div,mul,cos,sub\n",
      "Equation 43: mul,add\n",
      "Equation 44: div,mul,add,sin\n",
      "Equation 45: mul,add,sub,log\n",
      "Equation 46: exp,pow,mul,sub\n",
      "Equation 47: div,mul,pow,log\n",
      "Equation 48: mul,sub,add,exp\n",
      "Equation 49: mul,add,log,div\n",
      "Equation 50: add,mul,div,sub\n",
      "Equation 51: mul,add,cos\n"
     ]
    }
   ],
   "source": [
    "k = 4\n",
    "cols = [\"equation\", \"predicted_equation\", \"model_name\", \"accuracy\"]\n",
    "iterator = enumerate(zip(df_dsr[cols].iterrows(), df_gplearn[cols].iterrows()))\n",
    "\n",
    "ensemble_df = pd.DataFrame(columns=[\"equation\", \"ops\", \"top_k\"])\n",
    "\n",
    "for idx, model_results in iterator:\n",
    "    \n",
    "    consolidated_ops_count = []\n",
    "    \n",
    "    for _, result in model_results:\n",
    "        \n",
    "        sympy_eq = sp.simplify(sp.sympify(result.predicted_equation))        \n",
    "        ops_count = get_op_freq(sympy_eq)\n",
    "        \n",
    "        ops_acc = (ops_count, result.accuracy)\n",
    "        \n",
    "        consolidated_ops_count.append(ops_acc)\n",
    "        \n",
    "    weighted_ops_count = compute_weighted_op_count(consolidated_ops_count)\n",
    "\n",
    "    consolidated_ops = combine_freq_dicts(weighted_ops_count)\n",
    "    \n",
    "    result_ops = sorted(consolidated_ops, key=consolidated_ops.get, reverse=True)[:k]\n",
    "    ops = ','.join(result_ops)\n",
    "    print(f'Equation {idx}: {ops}')\n",
    "    \n",
    "    row = {\n",
    "        \"equation\": model_results[0][1].equation,\n",
    "        \"ops\": ops,\n",
    "        \"top_k\": k,\n",
    "    }\n",
    "    \n",
    "    ensemble_df = ensemble_df.append(row, ignore_index=True)"
   ]
  },
  {
   "cell_type": "code",
   "execution_count": 131,
   "id": "8dc4868d",
   "metadata": {},
   "outputs": [],
   "source": [
    "ensemble_df.to_excel(\"../results/top_4_ops_gp-dsr-heuristic-exp.xlsx\")"
   ]
  },
  {
   "cell_type": "code",
   "execution_count": null,
   "id": "9fba6f0e",
   "metadata": {},
   "outputs": [],
   "source": []
  }
 ],
 "metadata": {
  "kernelspec": {
   "display_name": "Python 3 (ipykernel)",
   "language": "python",
   "name": "python3"
  },
  "language_info": {
   "codemirror_mode": {
    "name": "ipython",
    "version": 3
   },
   "file_extension": ".py",
   "mimetype": "text/x-python",
   "name": "python",
   "nbconvert_exporter": "python",
   "pygments_lexer": "ipython3",
   "version": "3.7.0"
  }
 },
 "nbformat": 4,
 "nbformat_minor": 5
}
