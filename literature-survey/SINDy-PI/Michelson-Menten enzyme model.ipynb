{
 "cells": [
  {
   "cell_type": "code",
   "execution_count": 76,
   "metadata": {},
   "outputs": [],
   "source": [
    "# Import libraries.\n",
    "import numpy as np\n",
    "from matplotlib import pyplot as plt\n",
    "import pysindy as ps\n",
    "from pysindy.differentiation import FiniteDifference\n",
    "from pysindy.utils import enzyme, bacterial\n",
    "import sympy as sp\n",
    "from scipy.integrate import solve_ivp\n",
    "import scipy\n",
    "\n",
    "# ignore user warnings\n",
    "import warnings\n",
    "\n",
    "warnings.filterwarnings(\"ignore\", category=UserWarning)\n",
    "\n",
    "# For reproducibility\n",
    "np.random.seed(100)\n",
    "\n",
    "integrator_keywords = {}\n",
    "integrator_keywords[\"rtol\"] = 1e-12\n",
    "integrator_keywords[\"method\"] = \"LSODA\"\n",
    "integrator_keywords[\"atol\"] = 1e-12"
   ]
  },
  {
   "cell_type": "code",
   "execution_count": 77,
   "metadata": {},
   "outputs": [
    {
     "name": "stdout",
     "output_type": "stream",
     "text": [
      "Without function names: \n",
      "['f0(x0)', 'f0(x1)', 'f1(x0,x1)', 'f_dot0(x0_dot)', 'f_dot0(x1_dot)', 'f0(x0)f_dot0(x0_dot)', 'f0(x1)f_dot0(x0_dot)', 'f1(x0,x1)f_dot0(x0_dot)', 'f0(x0)f_dot0(x1_dot)', 'f0(x1)f_dot0(x1_dot)', 'f1(x0,x1)f_dot0(x1_dot)'] \n",
      "\n",
      "With function names: \n",
      "['exp(x0)', 'exp(x1)', 'sin(x0x1)', 'x0_dot', 'x1_dot', 'exp(x0)x0_dot', 'exp(x1)x0_dot', 'sin(x0x1)x0_dot', 'exp(x0)x1_dot', 'exp(x1)x1_dot', 'sin(x0x1)x1_dot'] \n",
      "\n",
      "With function names and bias term: \n",
      "['1', 'exp(x0)', 'exp(x1)', 'sin(x0x1)', 'x0_dot', 'x1_dot', 'exp(x0)x0_dot', 'exp(x1)x0_dot', 'sin(x0x1)x0_dot', 'exp(x0)x1_dot', 'exp(x1)x1_dot', 'sin(x0x1)x1_dot']\n"
     ]
    }
   ],
   "source": [
    "t = np.linspace(0, 1, 5)\n",
    "x = np.ones((5, 2))\n",
    "\n",
    "# Functions to be applied to the data x\n",
    "functions = [lambda x: np.exp(x), lambda x, y: np.sin(x + y)]\n",
    "\n",
    "# Functions to be applied to the data x_dot\n",
    "x_dot_functions = [lambda x: x]\n",
    "\n",
    "lib = ps.SINDyPILibrary(\n",
    "    library_functions=functions,\n",
    "    x_dot_library_functions=x_dot_functions,\n",
    "    t=t,\n",
    ").fit(x)\n",
    "lib.transform(x)\n",
    "print(\"Without function names: \")\n",
    "print(lib.get_feature_names(), \"\\n\")\n",
    "\n",
    "# Function names includes both the x and x_dot functions\n",
    "function_names = [\n",
    "    lambda x: \"exp(\" + x + \")\",\n",
    "    lambda x, y: \"sin(\" + x + y + \")\",\n",
    "    lambda x: x,\n",
    "]\n",
    "lib = ps.SINDyPILibrary(\n",
    "    library_functions=functions,\n",
    "    x_dot_library_functions=x_dot_functions,\n",
    "    function_names=function_names,\n",
    "    t=t,\n",
    ").fit(x)\n",
    "lib.transform(x)\n",
    "print(\"With function names: \")\n",
    "print(lib.get_feature_names(), \"\\n\")\n",
    "\n",
    "# Now include a bias term (constant term)\n",
    "lib = ps.SINDyPILibrary(\n",
    "    library_functions=functions,\n",
    "    x_dot_library_functions=x_dot_functions,\n",
    "    function_names=function_names,\n",
    "    t=t,\n",
    "    include_bias=True,\n",
    ").fit(x)\n",
    "lib.transform(x)\n",
    "print(\"With function names and bias term: \")\n",
    "print(lib.get_feature_names())"
   ]
  },
  {
   "cell_type": "markdown",
   "metadata": {},
   "source": [
    "### Solve 1D Michelson-Menten enzyme model as first demonstration\n",
    "The Michelson-Menten enzyme model is,\n",
    "$$\\dot{x} = 0.6 - \\frac{1.5 x}{0.3 + x}.$$\n",
    "Note that, instead of dealing with fractional terms, it can be rearranged into\n",
    "$$\\dot{x} = \\frac{3}{5} -3 x - \\frac{10}{3} x\\dot{x},$$\n",
    "which is an implicit ODE, since the right-hand-side now depends on $\\dot{x}$! In order to handle this scenario, SINDy-PI builds a candidate library with terms depending on both $x$ and $\\dot{x}$, and solves the optimization problem, \n",
    "$$\\|\\Theta(x, \\dot{x}) - \\Theta(x, \\dot{x})\\Xi\\|_2 + \\lambda\\|\\Xi\\|_1, \\quad s.t. \\text{diag}(\\Xi) = 0.$$\n",
    "This reason this modified optimization is required is that linear terms in $\\dot{x}$ are no longer guaranteed, so every candidate library term is fit with a different model to find the best combination of implicit terms. Note $\\text{diag}(\\Xi) = 0$ is required because without this, the model would just fit every candidate library term with itself, $\\dot{x} = \\dot{x}$, $x\\dot{x} = x\\dot{x}$, $x^2\\dot{x} = x^2\\dot{x}$, and so on."
   ]
  },
  {
   "cell_type": "code",
   "execution_count": 78,
   "metadata": {},
   "outputs": [],
   "source": [
    "# define parameters\n",
    "r = 1\n",
    "dt = 0.001\n",
    "T = 4\n",
    "t = np.arange(0, T + dt, dt)\n",
    "t_span = (t[0], t[-1])\n",
    "x0_train = [0.55]\n",
    "x_train = solve_ivp(enzyme, t_span, x0_train, t_eval=t, **integrator_keywords).y.T"
   ]
  },
  {
   "cell_type": "code",
   "execution_count": 79,
   "metadata": {},
   "outputs": [
    {
     "data": {
      "text/plain": [
       "((4002, 1),\n",
       " <function pysindy.utils.odes.enzyme(t, x, jx=0.6, Vmax=1.5, Km=0.3)>)"
      ]
     },
     "execution_count": 79,
     "metadata": {},
     "output_type": "execute_result"
    }
   ],
   "source": [
    "x_train.shape, enzyme"
   ]
  },
  {
   "cell_type": "code",
   "execution_count": 88,
   "metadata": {},
   "outputs": [],
   "source": [
    "# Initialize custom SINDy library so that we can have x_dot inside it.\n",
    "x_library_functions = [\n",
    "    lambda x: x,\n",
    "    lambda x, y: x * y,\n",
    "    lambda x: x ** 2,\n",
    "    lambda x, y, z: x * y * z,\n",
    "    lambda x, y: x * y ** 2,\n",
    "    lambda x: x ** 3,\n",
    "    lambda x, y, z, w: x * y * z * w,\n",
    "    lambda x, y, z: x * y * z ** 2,\n",
    "    lambda x, y: x * y ** 3,\n",
    "    lambda x: x ** 4,\n",
    "]\n",
    "x_dot_library_functions = [lambda x: x]\n",
    "\n",
    "# library function names includes both\n",
    "# the x_library_functions and x_dot_library_functions names\n",
    "library_function_names = [\n",
    "    lambda x: x,\n",
    "    lambda x, y: x + y,\n",
    "    lambda x: x + x,\n",
    "    lambda x, y, z: x + y + z,\n",
    "    lambda x, y: x + y + y,\n",
    "    lambda x: x + x + x,\n",
    "    lambda x, y, z, w: x + y + z + w,\n",
    "    lambda x, y, z: x + y + z + z,\n",
    "    lambda x, y: x + y + y + y,\n",
    "    lambda x: x + x + x + x,\n",
    "    lambda x: x,\n",
    "]"
   ]
  },
  {
   "cell_type": "code",
   "execution_count": 89,
   "metadata": {},
   "outputs": [
    {
     "name": "stdout",
     "output_type": "stream",
     "text": [
      "Model  0\n",
      "Model  1\n",
      "Model  2\n",
      "Model  3\n",
      "Solver failed on model  3 , setting coefs to zeros\n",
      "Model  4\n",
      "Model  5\n",
      "Model  6\n",
      "Model  7\n",
      "Model  8\n",
      "Model  9\n",
      "1 = 5.000 x0 + 1.667 x0_dot + 5.556 x0x0_dot\n",
      "x0 = 0.200 1 + -0.333 x0_dot + -1.111 x0x0_dot\n",
      "x0x0 = 0.198 x0 + 0.007 x0x0x0 + -0.338 x0x0_dot + -1.099 x0x0x0_dot\n",
      "x0x0x0 = 0.000\n",
      "x0x0x0x0 = -0.001 1 + 0.363 x0x0x0 + 0.041 x0x0_dot + -1.205 x0x0x0x0x0_dot\n",
      "x0_dot = 0.600 1 + -3.000 x0 + -3.333 x0x0_dot\n",
      "x0x0_dot = 0.180 1 + -0.900 x0 + -0.300 x0_dot\n",
      "x0x0x0_dot = -0.004 1 + 0.136 x0 + -0.508 x0x0 + -0.344 x0x0x0 + -0.102 x0x0_dot + -0.219 x0x0x0x0x0_dot\n",
      "x0x0x0x0_dot = 0.003 1 + 0.001 x0 + -0.391 x0x0x0 + -0.247 x0x0x0x0 + -0.108 x0x0_dot\n",
      "x0x0x0x0x0_dot = 0.001 1 + -0.670 x0x0x0x0 + -0.005 x0_dot + 0.029 x0x0_dot + -0.271 x0x0x0_dot\n"
     ]
    }
   ],
   "source": [
    "# Need to pass time base to the library so can build the x_dot library from x\n",
    "sindy_library = ps.SINDyPILibrary(\n",
    "    library_functions=x_library_functions,\n",
    "    x_dot_library_functions=x_dot_library_functions,\n",
    "    t=t[1:-1],\n",
    "    function_names=library_function_names,\n",
    "    include_bias=True,\n",
    ")\n",
    "\n",
    "# Use the SINDy-PI optimizer, which relies on CVXPY.\n",
    "# Note that if LHS of the equation fits the data poorly,\n",
    "# CVXPY often returns failure.\n",
    "sindy_opt = ps.SINDyPI(\n",
    "    threshold=1e-6,\n",
    "    tol=1e-8,\n",
    "    thresholder=\"l1\",\n",
    "    max_iter=30000,\n",
    ")\n",
    "model = ps.SINDy(\n",
    "    optimizer=sindy_opt,\n",
    "    feature_library=sindy_library,\n",
    "    differentiation_method=ps.FiniteDifference(drop_endpoints=True),\n",
    ")\n",
    "model.fit(x_train, t=t)\n",
    "model.print()"
   ]
  },
  {
   "cell_type": "code",
   "execution_count": 90,
   "metadata": {},
   "outputs": [
    {
     "data": {
      "text/plain": [
       "90"
      ]
     },
     "execution_count": 90,
     "metadata": {},
     "output_type": "execute_result"
    }
   ],
   "source": [
    "model.complexity"
   ]
  },
  {
   "cell_type": "markdown",
   "metadata": {},
   "source": [
    "### Okay, so how to choose which model to use?\n",
    "So SINDy-PI has generated a different dynamical model for each of the candidate library terms, but how do we choose which one to use? This can be decided in many ways, but an easy choice is picking the model that minimizes the mean-squared error of the $\\dot{x}$ testing data. There are many other ways to choose, and the SINDy-PI paper noted that bad models tend to also be less sparse, so sparsity is another metric for selection. Below, we simply integrate forward all the models and on this testing trajectory, they basically all perform fine. \n"
   ]
  },
  {
   "cell_type": "code",
   "execution_count": 71,
   "metadata": {},
   "outputs": [
    {
     "data": {
      "image/png": "[encoded data removed]",
      "text/plain": [
       "<Figure size 432x288 with 1 Axes>"
      ]
     },
     "metadata": {
      "needs_background": "light"
     },
     "output_type": "display_data"
    }
   ],
   "source": [
    "# Plot the fit of the derivative\n",
    "x_dot_train = model.differentiate(x_train, t)\n",
    "x_dot_train_pred = sindy_opt.Theta_ @ sindy_opt.coef_.T\n",
    "plt.figure()\n",
    "for i in range(r):\n",
    "    plt.subplot(1, r, i + 1)\n",
    "    plt.plot(t, x_dot_train[:, i], \"k\")\n",
    "    plt.plot(t[1:-1], x_dot_train_pred[:, 5], \"r--\")"
   ]
  },
  {
   "cell_type": "code",
   "execution_count": 72,
   "metadata": {},
   "outputs": [
    {
     "data": {
      "text/plain": [
       "['1',\n",
       " 'x',\n",
       " 'x0x0',\n",
       " 'x0x0x0',\n",
       " 'x0x0x0x0',\n",
       " 'x0_dot',\n",
       " 'xx0_dot',\n",
       " 'x0x0x0_dot',\n",
       " 'x0x0x0x0_dot',\n",
       " 'x0x0x0x0x0_dot']"
      ]
     },
     "execution_count": 72,
     "metadata": {},
     "output_type": "execute_result"
    }
   ],
   "source": [
    "model.get_feature_names()"
   ]
  },
  {
   "cell_type": "code",
   "execution_count": 63,
   "metadata": {},
   "outputs": [
    {
     "name": "stdout",
     "output_type": "stream",
     "text": [
      "['1', 'x0', 'x0x0', 'x0x0x0', 'x0x0x0x0', 'x0_dot', 'x0x0_dot', 'x0x0x0_dot', 'x0x0x0x0_dot', 'x0x0x0x0x0_dot']\n",
      "['1', 'x0', 'x0 * x0', 'x0 * x0 * x0', 'x0 * x0 * x0 * x0', 'x0_dot', 'x0 * x0_dot', 'x0 * x0 * x0_dot', 'x0 * x0 * x0 * x0_dot', 'x0 * x0 * x0 * x0 * x0_dot']\n"
     ]
    }
   ],
   "source": [
    "features = model.get_feature_names()\n",
    "features[0] = \"1\"\n",
    "features_copy = list(np.copy(features))\n",
    "nfeatures = len(features)\n",
    "features_formatted = []\n",
    "# Need to put multiplication between terms for sympy\n",
    "for i in range(nfeatures):\n",
    "    for j in range(r):\n",
    "        # Overkill to make sure all the x0, x1, etc. get replaced\n",
    "        temp_string = features[i].replace(\"x\" + str(j) + \"x\", \"x\" + str(j) + \" * x\")\n",
    "        temp_string = temp_string.replace(\"x\" + str(j) + \"x\", \"x\" + str(j) + \" * x\")\n",
    "        temp_string = temp_string.replace(\"x\" + str(j) + \"x\", \"x\" + str(j) + \" * x\")\n",
    "        temp_string = temp_string.replace(\"x\" + str(j) + \"x\", \"x\" + str(j) + \" * x\")\n",
    "        features[i] = temp_string\n",
    "    features_formatted.append(temp_string)\n",
    "features = features_copy\n",
    "print(features)\n",
    "print(features_formatted)\n",
    "coefs = model.coefficients()\n",
    "sym_features = [sp.symbols(feature) for feature in features]\n",
    "sym_theta = [sp.symbols(feature) for feature in features]"
   ]
  },
  {
   "cell_type": "code",
   "execution_count": 64,
   "metadata": {},
   "outputs": [
    {
     "name": "stdout",
     "output_type": "stream",
     "text": [
      "1  =  5.0*x0 + 1.67*x0_dot + 5.56*x0x0_dot\n",
      "x0  =  0.2*1 - 0.33*x0_dot - 1.11*x0x0_dot\n",
      "x0x0  =  0.2*x0 - 0.34*x0x0_dot + 0.01*x0x0x0 - 1.1*x0x0x0_dot\n",
      "x0x0x0  =  0\n",
      "x0x0x0x0  =  0.04*x0x0_dot + 0.36*x0x0x0 - 1.21*x0x0x0x0x0_dot\n",
      "x0_dot  =  0.6*1 - 3.0*x0 - 3.33*x0x0_dot\n",
      "x0x0_dot  =  0.18*1 - 0.9*x0 - 0.3*x0_dot\n",
      "x0x0x0_dot  =  0.14*x0 - 0.51*x0x0 - 0.1*x0x0_dot - 0.34*x0x0x0 - 0.22*x0x0x0x0x0_dot\n",
      "x0x0x0x0_dot  =  -0.11*x0x0_dot - 0.39*x0x0x0 - 0.25*x0x0x0x0\n",
      "x0x0x0x0x0_dot  =  -0.01*x0_dot + 0.03*x0x0_dot - 0.27*x0x0x0_dot - 0.67*x0x0x0x0\n"
     ]
    }
   ],
   "source": [
    "sym_equations = []\n",
    "sym_equations_rounded = []\n",
    "for i in range(nfeatures):\n",
    "    sym_equations.append(\n",
    "        sp.solve(\n",
    "            sp.Eq(sym_theta[i], sym_theta @ np.around(coefs[i], 10)), sym_features[i]\n",
    "        )\n",
    "    )\n",
    "    sym_equations_rounded.append(\n",
    "        sp.solve(\n",
    "            sp.Eq(sym_theta[i], sym_theta @ np.around(coefs[i], 2)), sym_features[i]\n",
    "        )\n",
    "    )\n",
    "    print(sym_theta[i], \" = \", sym_equations_rounded[i][0])"
   ]
  },
  {
   "cell_type": "code",
   "execution_count": 65,
   "metadata": {},
   "outputs": [
    {
     "data": {
      "text/plain": [
       "([0.5999817751*1 - 2.9999405642*x0 + 0.0001546073*x0x0 - 3.3330362204*x0x0_dot - 3.75e-8*x0x0x0 - 7.61e-8*x0x0x0x0 + 3.38e-8*x0x0x0x0_dot + 5.16e-8*x0x0x0x0x0_dot],\n",
       " array([ 0.6  , -3.   ,  0.   , -0.   , -0.   , -0.   , -3.333, -0.   ,\n",
       "         0.   ,  0.   ]))"
      ]
     },
     "execution_count": 65,
     "metadata": {},
     "output_type": "execute_result"
    }
   ],
   "source": [
    "sym_equations[5], np.around(coefs[5], 3)"
   ]
  },
  {
   "cell_type": "code",
   "execution_count": 66,
   "metadata": {},
   "outputs": [
    {
     "data": {
      "text/plain": [
       "[0.6*1 - 3.0*x0 - 3.33*x0x0_dot]"
      ]
     },
     "execution_count": 66,
     "metadata": {},
     "output_type": "execute_result"
    }
   ],
   "source": [
    "sym_equations_rounded[5]"
   ]
  },
  {
   "cell_type": "code",
   "execution_count": 67,
   "metadata": {},
   "outputs": [],
   "source": [
    "# Define the ODE symbol variables\n",
    "t_sym = sp.symbols(\"t_sym\")\n",
    "x_sym = sp.symbols(\"x:%d\" % r)\n",
    "x_dot_sym = sp.symbols(\"x:%d_dot\" % r)\n",
    "\n",
    "# Need to format the above equations so that there are space between x0 * x0, x0 * x_dot0, and so on.\n",
    "sym_equations_formatted = []\n",
    "sym_equations_rounded_formatted = []\n",
    "for i in range(nfeatures):\n",
    "    for j in range(r):\n",
    "        # Overkill to make sure all the x0, x1, etc. get replaced\n",
    "        temp_string = str(sym_equations[i]).replace(\n",
    "            \"x\" + str(j) + \"x\", \"x\" + str(j) + \" * x\"\n",
    "        )\n",
    "        temp_string = temp_string.replace(\"x\" + str(j) + \"x\", \"x\" + str(j) + \" * x\")\n",
    "        temp_string = temp_string.replace(\"x\" + str(j) + \"x\", \"x\" + str(j) + \" * x\")\n",
    "        temp_string = temp_string.replace(\"x\" + str(j) + \"x\", \"x\" + str(j) + \" * x\")\n",
    "        temp_rounded_string = str(sym_equations_rounded[i]).replace(\n",
    "            \"x\" + str(j) + \"x\", \"x\" + str(j) + \" * x\"\n",
    "        )\n",
    "        temp_rounded_string = temp_rounded_string.replace(\n",
    "            \"x\" + str(j) + \"x\", \"x\" + str(j) + \" * x\"\n",
    "        )\n",
    "        temp_rounded_string = temp_rounded_string.replace(\n",
    "            \"x\" + str(j) + \"x\", \"x\" + str(j) + \" * x\"\n",
    "        )\n",
    "        temp_rounded_string = temp_rounded_string.replace(\n",
    "            \"x\" + str(j) + \"x\", \"x\" + str(j) + \" * x\"\n",
    "        )\n",
    "        sym_equations_formatted.append(temp_string)\n",
    "        sym_equations_rounded_formatted.append(temp_rounded_string)"
   ]
  },
  {
   "cell_type": "code",
   "execution_count": 68,
   "metadata": {},
   "outputs": [
    {
     "name": "stdout",
     "output_type": "stream",
     "text": [
      "5.4e-06 \n",
      " 1 = 100.0*(1.0 - 5.0*x0)/(556.0*x0 + 167.0)\n",
      "\n",
      "0.0001865 \n",
      " x0 = 6.67*(1.0 - 5.0*x0)/(37.0*x0 + 11.0)\n",
      "\n",
      "0.013639 \n",
      " x0**2 = 0.5*(x0**2 - 100.0*x0 + 20.0)/(55.0*x0 + 17.0)\n",
      "\n",
      "0.4019716 \n",
      " x0**4 = x0**2*(36.0 - 100.0*x0)/(121.0*x0**3 - 4.0)\n",
      "\n",
      "0.0002485 \n",
      " x0_dot = 60.0*(1.0 - 5.0*x0)/(333.0*x0 + 100.0)\n",
      "\n",
      "0.0006224 \n",
      " x0*x0_dot = 1.8*(1.0 - 5.0*x0)/(10.0*x0 + 3.0)\n",
      "\n",
      "0.232742 \n",
      " x0**2*x0_dot = 0.5*(-34.0*x0**2 - 51.0*x0 + 14.0)/(11.0*x0**3 + 50.0*x0 + 5.0)\n",
      "\n",
      "0.1792438 \n",
      " x0**3*x0_dot = x0**2*(-25.0*x0 - 39.0)/(100.0*x0**2 + 11.0)\n",
      "\n",
      "0.0704214 \n",
      " x0**4*x0_dot = -67.0*x0**4/(100.0*x0**4 + 27.0*x0**2 - 3.0*x0 + 1.0)\n",
      "\n",
      "\n",
      "\n",
      "Best equation:  1 = 100.0*(1.0 - 5.0*x0)/(556.0*x0 + 167.0)\n"
     ]
    },
    {
     "data": {
      "text/plain": [
       "<matplotlib.legend.Legend at 0x7f4b07c15160>"
      ]
     },
     "execution_count": 68,
     "metadata": {},
     "output_type": "execute_result"
    },
    {
     "data": {
      "image/png": "[encoded data removed]",
      "text/plain": [
       "<Figure size 720x216 with 1 Axes>"
      ]
     },
     "metadata": {
      "needs_background": "light"
     },
     "output_type": "display_data"
    }
   ],
   "source": [
    "# Now that the equations are mathematically formatted,\n",
    "# solve for x_dot0 in the algebraic equation.\n",
    "sym_equations_simplified = []\n",
    "sym_equations_rounded_simplified = []\n",
    "for i in range(nfeatures):\n",
    "    sym_equations_simplified.append(\n",
    "        sp.solve(\n",
    "            sp.Add(\n",
    "                sp.sympify(sym_equations_formatted)[i][0],\n",
    "                -sp.sympify(features_formatted[i]),\n",
    "            ),\n",
    "            x_dot_sym,\n",
    "        )\n",
    "    )\n",
    "    rounded = sp.solve(\n",
    "        sp.Add(\n",
    "            sp.sympify(sym_equations_rounded_formatted)[i][0],\n",
    "            -sp.sympify(features_formatted[i]),\n",
    "        ),\n",
    "        x_dot_sym,\n",
    "    )\n",
    "    if len(rounded) != 0:\n",
    "        rounded_temp = rounded[0]\n",
    "        for a in sp.preorder_traversal(rounded):\n",
    "            if isinstance(a, sp.Float):\n",
    "                rounded_temp = rounded_temp.subs(a, round(a, 2))\n",
    "        sym_equations_rounded_simplified.append(rounded_temp)\n",
    "    else:\n",
    "        sym_equations_rounded_simplified.append([])\n",
    "\n",
    "# Plot the results for each of the models\n",
    "plt.figure(figsize=(10, 3))\n",
    "# plt.figure(figsize=(30, 30))\n",
    "x0_test = np.random.rand(1)\n",
    "x_test = solve_ivp(enzyme, t_span, x0_test, t_eval=t).y.T\n",
    "plt.plot(t, x_test, color=\"k\", linestyle=\"solid\", label=\"True\")\n",
    "\n",
    "_min = float(\"inf\")\n",
    "best_eq = None\n",
    "\n",
    "for i in range(nfeatures):\n",
    "    ax = plt.gca()\n",
    "    if i != nfeatures - 1:\n",
    "        ax.set_xticklabels([])\n",
    "    if len(sym_equations_simplified[i]) != 0:\n",
    "        ODE_Func = sp.lambdify([t_sym, x_sym], sym_equations_simplified[i][0])\n",
    "\n",
    "        # Now simulate the system we identified\n",
    "        x_test_sim = solve_ivp(ODE_Func, t_span, x0_test, t_eval=t).y.T\n",
    "\n",
    "        fit = abs(np.around(np.sum(x_test - x_test_sim), 7))\n",
    "        eq = (\n",
    "            str(sp.sympify(features_formatted[i]))\n",
    "            + \" = \"\n",
    "            + str(sym_equations_rounded_simplified[i])\n",
    "        )\n",
    "        print(abs(np.around(fit, 7)), \"\\n\", eq)\n",
    "        print()\n",
    "\n",
    "        if _min > fit:\n",
    "            _min = fit\n",
    "            best_eq = eq\n",
    "\n",
    "print(\"\\n\\nBest equation: \", best_eq)\n",
    "plt.grid(True)\n",
    "\n",
    "plt.legend(fontsize=8)"
   ]
  },
  {
   "cell_type": "code",
   "execution_count": null,
   "metadata": {},
   "outputs": [],
   "source": []
  }
 ],
 "metadata": {
  "interpreter": {
   "hash": "164692064b7f557f9ea37e080e7832f0be0b0d61027257db3648c42dc060babf"
  },
  "kernelspec": {
   "display_name": "Python 3 (ipykernel)",
   "language": "python",
   "name": "python3"
  },
  "language_info": {
   "codemirror_mode": {
    "name": "ipython",
    "version": 3
   },
   "file_extension": ".py",
   "mimetype": "text/x-python",
   "name": "python",
   "nbconvert_exporter": "python",
   "pygments_lexer": "ipython3",
   "version": "3.8.13"
  }
 },
 "nbformat": 4,
 "nbformat_minor": 2
}
